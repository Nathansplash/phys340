{
 "cells": [
  {
   "cell_type": "markdown",
   "source": [
    "# Assignment 2"
   ],
   "metadata": {
    "collapsed": false
   },
   "id": "f6657dbe03007455"
  },
  {
   "cell_type": "code",
   "outputs": [],
   "source": [
    "import numpy as np\n",
    "import matplotlib.pyplot as plt\n",
    "import sympy as sp"
   ],
   "metadata": {
    "collapsed": false,
    "ExecuteTime": {
     "end_time": "2024-02-18T22:55:34.748294Z",
     "start_time": "2024-02-18T22:55:30.655601Z"
    }
   },
   "id": "d94fbbc122acf954",
   "execution_count": 4
  },
  {
   "cell_type": "code",
   "outputs": [
    {
     "name": "stdout",
     "output_type": "stream",
     "text": [
      "30*x**4 + 12*x**3*y**3 - 2*x*y**6\n",
      "9*x**4*y**2 - 6*x**2*y**5 - 2\n"
     ]
    }
   ],
   "source": [
    "# Problem 2.1\n",
    "\n",
    "f = sp.Function('f')\n",
    "x = sp.symbols('x')\n",
    "y = sp.symbols('y')\n",
    "z = sp.symbols('z')\n",
    "\n",
    "f = 3*x**4*y**3 - x**2*y**6 + 6*x**5 -2*y\n",
    "\n",
    "deriv_x = sp.diff(f,x)\n",
    "deriv_y = sp.diff(f,y)\n",
    "\n",
    "print(deriv_x)\n",
    "print(deriv_y)\n"
   ],
   "metadata": {
    "collapsed": false,
    "ExecuteTime": {
     "end_time": "2024-02-18T22:55:47.102640Z",
     "start_time": "2024-02-18T22:55:46.995282Z"
    }
   },
   "id": "ce4f3bb933860945",
   "execution_count": 5
  },
  {
   "cell_type": "code",
   "outputs": [
    {
     "name": "stdout",
     "output_type": "stream",
     "text": [
      "-16*sin(8*x)*cos(8*x)\n",
      "16*sin(8*y)*cos(8*y)\n"
     ]
    }
   ],
   "source": [
    "# Problem 2.2\n",
    "\n",
    "f = sp.cos(8*x)**2 + sp.sin(8c*y)**2\n",
    "\n",
    "deriv_x = sp.diff(f,x)\n",
    "deriv_y = sp.diff(f,y)\n",
    "\n",
    "print(deriv_x)\n",
    "print(deriv_y)"
   ],
   "metadata": {
    "collapsed": false,
    "ExecuteTime": {
     "end_time": "2024-02-18T22:57:33.365908Z",
     "start_time": "2024-02-18T22:57:33.352617Z"
    }
   },
   "id": "76eed4b6bf639686",
   "execution_count": 7
  },
  {
   "cell_type": "code",
   "outputs": [
    {
     "name": "stdout",
     "output_type": "stream",
     "text": [
      "(-8*x**7*y**2 + 2*x)*N.i + (-2*x**8*y - 4*y**3)*N.j\n"
     ]
    }
   ],
   "source": [
    "# Problem 2.3\n",
    "\n",
    "f = x**2-x**8*y**2-y**4\n",
    "\n",
    "def gradient(f):\n",
    "    fx = sp.diff(f,x)\n",
    "    fy = sp.diff(f,y)\n",
    "    \n",
    "    from sympy.vector import CoordSys3D\n",
    "    N = CoordSys3D('N')\n",
    "    \n",
    "    grad = fx*N.i + fy*N.j\n",
    "    \n",
    "    return grad\n",
    "\n",
    "print(gradient(f))"
   ],
   "metadata": {
    "collapsed": false,
    "ExecuteTime": {
     "end_time": "2024-02-18T23:02:32.704145Z",
     "start_time": "2024-02-18T23:02:32.253284Z"
    }
   },
   "id": "e523046bbd6cc80f",
   "execution_count": 8
  },
  {
   "cell_type": "code",
   "outputs": [
    {
     "name": "stdout",
     "output_type": "stream",
     "text": [
      "(-4/25)*N.i + 3/25*N.j + 1/5*N.k\n"
     ]
    }
   ],
   "source": [
    "# Problem 2.4\n",
    "\n",
    "f = sp.log(x**2+y**2+z**2)\n",
    "\n",
    "fx = sp.diff(f,x)\n",
    "fy = sp.diff(f,y)\n",
    "fz = sp.diff(f,z)\n",
    "\n",
    "from sympy.vector import CoordSys3D\n",
    "N = CoordSys3D('N')\n",
    "\n",
    "grad = fx*N.i + fy*N.j + fz*N.k\n",
    "\n",
    "grad_value = grad.subs([(x,-4),(y,3),(z,5)])\n",
    "\n",
    "print(grad_value)"
   ],
   "metadata": {
    "collapsed": false,
    "ExecuteTime": {
     "end_time": "2024-02-18T23:05:50.781307Z",
     "start_time": "2024-02-18T23:05:50.579922Z"
    }
   },
   "id": "6891f7b0525c761f",
   "execution_count": 9
  },
  {
   "cell_type": "code",
   "outputs": [
    {
     "name": "stdout",
     "output_type": "stream",
     "text": [
      "16/5\n"
     ]
    }
   ],
   "source": [
    "# Problem 2.5\n",
    "\n",
    "f = x*y/(x+y)\n",
    "\n",
    "# Calculate the directional derivative in the direction of the vector v = 6i + 8j at the point (-2,3)\n",
    "\n",
    "fx = sp.diff(f,x)\n",
    "fy = sp.diff(f,y)\n",
    "\n",
    "from sympy.vector import CoordSys3D\n",
    "N = CoordSys3D('N')\n",
    "\n",
    "grad = fx*N.i + fy*N.j\n",
    "\n",
    "v = 3*N.i + 4*N.j\n",
    "\n",
    "vhat = v / sp.sqrt(v.dot(v))\n",
    "\n",
    "grad_value = grad.subs([(x,-1),(y,2)])\n",
    "\n",
    "dot_product = grad_value.dot(vhat)\n",
    "\n",
    "print(dot_product)"
   ],
   "metadata": {
    "collapsed": false,
    "ExecuteTime": {
     "end_time": "2024-02-18T23:10:40.666769Z",
     "start_time": "2024-02-18T23:10:40.570802Z"
    }
   },
   "id": "6fdc87f98861b07a",
   "execution_count": 10
  },
  {
   "cell_type": "code",
   "outputs": [
    {
     "name": "stdout",
     "output_type": "stream",
     "text": [
      "4*N.i + (1 - 12*y)*N.j + 12*z*N.k\n"
     ]
    }
   ],
   "source": [
    "# Problem 2.6\n",
    "\n",
    "F = x*y*N.i + 6*y*z**2*N.j + 4*x*z*N.k\n",
    "\n",
    "def curl(F):\n",
    "    Fx = F.dot(N.i)\n",
    "    Fy = F.dot(N.j)\n",
    "    Fz = F.dot(N.k)\n",
    "    \n",
    "    dFx_dz = sp.diff(Fx,z)\n",
    "    dFx_dy = sp.diff(Fx,y)\n",
    "    \n",
    "    dFy_dx = sp.diff(Fy,x)\n",
    "    dFy_dz = sp.diff(Fy,z)\n",
    "    \n",
    "    dFz_dy = sp.diff(Fz,y)\n",
    "    dFz_dx = sp.diff(Fz,x)\n",
    "    \n",
    "    curl = (dFz_dy - dFy_dz)*N.i + (dFx_dz - dFz_dx)*N.j + (dFy_dx - dFx_dy)*N.k\n",
    "    \n",
    "    return curl\n",
    "    \n",
    "curlF = curl(F)\n",
    "\n",
    "curlcurlF = curl(curlF)\n",
    "\n",
    "print(curlcurlF)\n",
    "    \n"
   ],
   "metadata": {
    "collapsed": false,
    "ExecuteTime": {
     "end_time": "2024-02-18T23:11:37.167835Z",
     "start_time": "2024-02-18T23:11:37.092933Z"
    }
   },
   "id": "9cd0abfaa6beab91",
   "execution_count": 11
  },
  {
   "cell_type": "code",
   "outputs": [
    {
     "name": "stdout",
     "output_type": "stream",
     "text": [
      "r dot a =  a1*x + a2*y + a3*z\n",
      "r dot r =  x**2 + y**2 + z**2\n",
      "r dot r times a =  (a1*(x**2 + y**2 + z**2))*N.i + (a2*(x**2 + y**2 + z**2))*N.j + (a3*(x**2 + y**2 + z**2))*N.k\n",
      "LHS =  2*a1*x + 2*a2*y + 2*a3*z\n",
      "RHS =  2*a1*x + 2*a2*y + 2*a3*z\n"
     ]
    }
   ],
   "source": [
    "# Problem 2.7\n",
    "\n",
    "r = x*N.i + y*N.j + z*N.k\n",
    "a1 = sp.symbols('a1')\n",
    "a2 = sp.symbols('a2')\n",
    "a3 = sp.symbols('a3')\n",
    "a = a1*N.i + a2*N.j + a3*N.k\n",
    "\n",
    "def divergence(a):\n",
    "    ax = a.dot(N.i)\n",
    "    ay = a.dot(N.j)\n",
    "    az = a.dot(N.k)\n",
    "    \n",
    "    dax_dx = sp.diff(ax,x)\n",
    "    day_dy = sp.diff(ay,y)\n",
    "    daz_dz = sp.diff(az,z)\n",
    "    \n",
    "    div = dax_dx + day_dy + daz_dz\n",
    "    \n",
    "    return div\n",
    "\n",
    "rdotr = r.dot(r)\n",
    "rdotr_times_a = rdotr*a\n",
    "del_dot_rdotr_times_a = divergence(rdotr_times_a)\n",
    "\n",
    "print('r dot a = ',r.dot(a))\n",
    "print('r dot r = ',r.dot(r))\n",
    "print('r dot r times a = ',rdotr_times_a)\n",
    "print('LHS = ',del_dot_rdotr_times_a)\n",
    "print('RHS = ',2*(r.dot(a)))"
   ],
   "metadata": {
    "collapsed": false,
    "ExecuteTime": {
     "end_time": "2024-01-19T17:49:52.677405Z",
     "start_time": "2024-01-19T17:49:52.650160Z"
    }
   },
   "id": "6608b0873f0d55ad",
   "execution_count": 8
  },
  {
   "cell_type": "code",
   "outputs": [],
   "source": [],
   "metadata": {
    "collapsed": false,
    "ExecuteTime": {
     "end_time": "2024-01-19T17:49:52.680763Z",
     "start_time": "2024-01-19T17:49:52.654327Z"
    }
   },
   "id": "724018b2562b5066",
   "execution_count": 8
  }
 ],
 "metadata": {
  "kernelspec": {
   "display_name": "Python 3",
   "language": "python",
   "name": "python3"
  },
  "language_info": {
   "codemirror_mode": {
    "name": "ipython",
    "version": 2
   },
   "file_extension": ".py",
   "mimetype": "text/x-python",
   "name": "python",
   "nbconvert_exporter": "python",
   "pygments_lexer": "ipython2",
   "version": "2.7.6"
  }
 },
 "nbformat": 4,
 "nbformat_minor": 5
}
