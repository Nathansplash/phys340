{
 "cells": [
  {
   "cell_type": "markdown",
   "source": [
    "# Sturm-Liouville Problem\n",
    "\n",
    "In applied mathematics, in particular the area of partial differential equations, a Sturm–Liouville problem is an eigenvalue problem defined as a special case of a regular Sturm–Liouville problem from Sturm–Liouville theory. It consists of finding non-trivial solutions of a homogeneous linear second-order differential equation, subject to a boundary condition called a separated boundary condition. The separated boundary conditions are named after Jacques Charles François Sturm (1803–1855) and Joseph Liouville (1809–1882), who studied them in the 1830s and 1840s.\n",
    "\n",
    "Consider the following Sturm-Liouville problem:\n",
    "\n",
    "$$\n",
    "\\begin{align}\n",
    "\\frac{d}{dx}\\left(p(x)\\frac{dy}{dx}\\right) + q(x)y + \\lambda w(x)y &= 0, \\quad x \\in (a,b) \\\\\n",
    "\\alpha_1 y(a) + \\beta_1 y'(a) &= 0 \\\\\n",
    "\\alpha_2 y(b) + \\beta_2 y'(b) &= 0\n",
    "\\end{align}\n",
    "$$\n",
    "\n",
    "where $p(x)$, $q(x)$, and $w(x)$ are real-valued functions on the interval $(a,b)$, and $\\alpha_1$, $\\beta_1$, $\\alpha_2$, and $\\beta_2$ are real-valued constants. The function $p(x)$ is called the weight function, $q(x)$ is called the potential function, and $\\lambda$ is called the eigenvalue. The functions $p(x)$, $q(x)$, and $w(x)$ are assumed to be continuous on the interval $(a,b)$, and $p(x)$ and $w(x)$ are assumed to be positive on the interval $(a,b)$.\n",
    "\n",
    "The goal is to find the eigenvalues $\\lambda$ and the corresponding eigenfunctions $y(x)$ that satisfy the Sturm-Liouville problem.  The second and third equations are called the separated boundary conditions.  As the Sturm-Liouville problem is a homogeneous linear second-order differential equation, there must be two separated boundary conditions to ensure that there are enough conditions to determine the eigenvalues and eigenfunctions."
   ],
   "metadata": {
    "collapsed": false
   },
   "id": "8ec9415c6395cec0"
  },
  {
   "cell_type": "markdown",
   "source": [
    "\n",
    "## Transforming the Sturm-Liouville Problem\n",
    "\n",
    "The first thing to note is that the first term in the first equation is a product rule.  We can rewrite the first equation as\n",
    "\n",
    "$$\n",
    "p(x)\\frac{d^2y}{dx^2} + \\frac{dp}{dx} \\frac{dy}{dx} + q(x)y + \\lambda w(x)y = 0 \\\\\n",
    "p(x) y'' + \\frac{dp}{dx} y' + q(x)y + \\lambda w(x)y = 0\n",
    "$$\n",
    "\n",
    "Thus, any second order linear differential equation of the form:\n",
    "\n",
    "$$ a(x)y'' + b(x)y' + c(x)y + \\lambda d(x) = 0 $$\n",
    "\n",
    "can be written in the form of a Sturm-Liouville problem.\n",
    "\n",
    "### Example:  Bessel Equation\n",
    "\n",
    "The Bessel equation is given by\n",
    "\n",
    "$$ x^2 y'' + xy' + (\\lambda x^2 - \\nu^2)y = 0 $$\n",
    "\n",
    "where $\\nu$ is a constant.  Multiplying both sides by $\\frac{1}{x}$, We can rewrite this equation as\n",
    "\n",
    "$$ x y'' + y' + \\left(\\lambda x - \\frac{\\nu^2}{x}\\right)y = 0 $$\n",
    "\n",
    "$$ \\frac{d}{dx} \\left(x \\frac{dy}{dx}\\right) + \\left(\\lambda x - \\frac{\\nu^2}{x}\\right)y = 0 $$\n",
    "\n",
    "$$ \\frac{d}{dx} \\left(x \\frac{dy}{dx}\\right) + \\left(- \\frac{\\nu^2}{x}\\right)y + \\lambda x y = 0 $$\n",
    "\n",
    "Thus, if we identify $p(x) = x$, $q(x) = - \\frac{\\nu^2}{x}$, $w(x) = x$, we can write the Bessel equation as a Sturm-Liouville problem."
   ],
   "metadata": {
    "collapsed": false
   },
   "id": "3931b7fbb1e14e77"
  },
  {
   "cell_type": "markdown",
   "source": [
    "# Theorem 1:  Eigenvalues are Real\n",
    "\n",
    "Suppose that $p(x)$, $p^\\prime(x)$, $q(x)$, and $w(x)$ are real-valued, continuous functions on the interval $(a,b)$.\n",
    "\n",
    "Further suppose that $p(x)$ and $w(x)$ are positive on the interval $(a,b)$. \n",
    "\n",
    "Then the eigenvalues $\\lambda$ of the Sturm-Liouville problem are real, and have an infinite number of increasing eigenvalues:\n",
    "\n",
    "$$ \\lambda_1 < \\lambda_2 < \\lambda_3 < \\cdots $$\n",
    "\n",
    "and \n",
    "\n",
    "$$ \\lim_{n \\rightarrow \\infty} \\lambda_n = \\infty $$\n",
    "\n",
    "In addition, the eigenfunctions $y_n(x)$ corresponding to the eigenvalues $\\lambda_n$ are orthogonal with respect to the weight function $w(x)$:\n",
    "\n",
    "$$ \\int_a^b y_n(x) y_m(x) w(x) dx = 0, \\quad n \\ne m $$\n",
    "\n",
    "Moreover, if  $q(x)\\geq 0$ on the interval $(a,b)$, and $\\alpha_1, \\alpha_2, \\beta_1, \\beta_2 \\ge 0$, then the eigenvalues are positive.\n",
    "\n",
    "Problems of this type are called regular Sturm-Liouville problems, and we are going to limit ourselves to study regular Sturm-Liouville problems."
   ],
   "metadata": {
    "collapsed": false
   },
   "id": "e2572161cfa1c7e5"
  },
  {
   "cell_type": "markdown",
   "source": [
    "# Example\n",
    "\n",
    "Consider the differential equation:\n",
    "\n",
    "$$ y'' + \\lambda y = 0 $$\n",
    "\n",
    "on the interval $[0,L]$ with the boundary conditions $y(0) = 0$ and $y(L) = 0$.\n",
    "\n",
    "This is a regular Sturm-Liouville problem with $p(x) = 1$, $q(x) = 0$, $w(x) = 1$, $\\alpha_1 = 1$, $\\beta_1 = 1$, $\\alpha_2 = 0$, and $\\beta_2 = 0$.\n",
    "\n",
    "The eigenvalues are given by\n",
    "\n",
    "$$ \\lambda_n = \\left(\\frac{n \\pi}{L}\\right)^2, \\quad n = 1, 2, 3, \\ldots $$\n",
    "\n",
    "and the eigenfunctions are given by\n",
    "\n",
    "$$ y_n(x) = \\sin\\left(\\frac{n \\pi x}{L}\\right), \\quad n = 1, 2, 3, \\ldots $$"
   ],
   "metadata": {
    "collapsed": false
   },
   "id": "b6bd2b51ad2952ed"
  },
  {
   "cell_type": "code",
   "outputs": [],
   "source": [],
   "metadata": {
    "collapsed": false
   },
   "id": "a253fa25e957829a"
  }
 ],
 "metadata": {
  "kernelspec": {
   "display_name": "Python 3",
   "language": "python",
   "name": "python3"
  },
  "language_info": {
   "codemirror_mode": {
    "name": "ipython",
    "version": 2
   },
   "file_extension": ".py",
   "mimetype": "text/x-python",
   "name": "python",
   "nbconvert_exporter": "python",
   "pygments_lexer": "ipython2",
   "version": "2.7.6"
  }
 },
 "nbformat": 4,
 "nbformat_minor": 5
}
