{
 "cells": [
  {
   "cell_type": "code",
   "execution_count": 1,
   "metadata": {
    "ExecuteTime": {
     "end_time": "2024-02-12T13:18:56.598209Z",
     "start_time": "2024-02-12T13:18:50.609013Z"
    }
   },
   "outputs": [],
   "source": [
    "import numpy as np\n",
    "import sympy as smp\n",
    "import matplotlib.pyplot as plt\n",
    "from scipy.integrate import dblquad\n",
    "from scipy.integrate import tplquad\n",
    "import pandas as pd"
   ]
  },
  {
   "cell_type": "markdown",
   "metadata": {},
   "source": [
    "# Moment of Inertia in Python"
   ]
  },
  {
   "cell_type": "markdown",
   "metadata": {},
   "source": [
    "# Analytical Case"
   ]
  },
  {
   "cell_type": "markdown",
   "metadata": {},
   "source": [
    "Define the radius as a function of $\\theta$. The region we are interested for this function is $\\pi/4 < \\theta < \\pi/2$"
   ]
  },
  {
   "cell_type": "code",
   "execution_count": 2,
   "metadata": {
    "ExecuteTime": {
     "end_time": "2024-02-12T13:19:04.071955Z",
     "start_time": "2024-02-12T13:19:04.066840Z"
    }
   },
   "outputs": [],
   "source": [
    "def f(t):\n",
    "    return 1 - np.pi/4 + t**(1/10)"
   ]
  },
  {
   "cell_type": "markdown",
   "metadata": {},
   "source": [
    "Plot this function in the specified $\\theta$ range"
   ]
  },
  {
   "cell_type": "code",
   "execution_count": 3,
   "metadata": {
    "ExecuteTime": {
     "end_time": "2024-02-12T13:19:05.903610Z",
     "start_time": "2024-02-12T13:19:05.900796Z"
    }
   },
   "outputs": [],
   "source": [
    "t = np.linspace(np.pi/4, np.pi/2, 1000)\n",
    "A = f(t)"
   ]
  },
  {
   "cell_type": "code",
   "execution_count": 4,
   "metadata": {
    "ExecuteTime": {
     "end_time": "2024-02-12T13:19:09.191350Z",
     "start_time": "2024-02-12T13:19:08.908989Z"
    }
   },
   "outputs": [
    {
     "data": {
      "text/plain": "Text(0.5, 1.0, 'Side of Spinning Top in Cylindrical Coordinates')"
     },
     "execution_count": 4,
     "metadata": {},
     "output_type": "execute_result"
    },
    {
     "data": {
      "text/plain": "<Figure size 400x400 with 1 Axes>",
      "image/png": "[encoded data removed]"
     },
     "metadata": {},
     "output_type": "display_data"
    }
   ],
   "source": [
    "plt.figure(figsize=(4,4))\n",
    "plt.plot(np.insert(A*np.cos(t), 0, 0), np.insert(A*np.sin(t), 0, 0))\n",
    "plt.xlim(-1.5,1.5)\n",
    "plt.ylim(-1.5,1.5)\n",
    "plt.grid()\n",
    "plt.ylabel('$z/R_0$', fontsize=30)\n",
    "plt.xlabel('$r/R_0$', fontsize=30)\n",
    "plt.title('Side of Spinning Top in Cylindrical Coordinates')"
   ]
  },
  {
   "cell_type": "markdown",
   "metadata": {},
   "source": [
    "The kinetic energy of the spinning top (with its tip fixed on the plane) is given by\n",
    "\n",
    "$$T = \\frac{1}{2} \\omega^T I\\omega = \\frac{1}{2} \\begin{bmatrix} \\omega_x&\\omega_y&\\omega_z \\end{bmatrix}\\begin{bmatrix}I_x & I_{xy} & I_{xz}\\\\ I_{yx} & I_{y} & I_{yz}\\\\ I_{zx} & I_{zy} & I_{z}\\end{bmatrix} \\begin{bmatrix} \\omega_x\\\\\\omega_y\\\\\\omega_z \\end{bmatrix}$$\n",
    "\n",
    "Note that this matrix is symmetric so there are 6 unique parameters. We will find $I_x$, $I_y$, and $I_z$ and show that all off diagonal terms (such as $I_{xy}$) are 0. Furthermore, since moment of intertias are typically given by\n",
    "\n",
    "$$I = ... MR_0^2$$\n",
    "\n",
    "for some characteristic length $R_0$ and mass $M$, we're also going to want to find the mass $M$"
   ]
  },
  {
   "cell_type": "markdown",
   "metadata": {},
   "source": [
    "## Moment of Inertial About About Z-Axis"
   ]
  },
  {
   "cell_type": "markdown",
   "metadata": {},
   "source": [
    "$$I_z = \\iiint \\rho(x, y, z) (x^2+y^2) dV = \\int_Z \\int_r \\int_0^{2\\pi} \\rho(r, z) r^2 r d\\phi dr dz = 2 \\pi \\int_r \\int_z \\rho(r, z) r^3 dr dz $$"
   ]
  },
  {
   "cell_type": "markdown",
   "metadata": {},
   "source": [
    "In this $r-z$ plane we can convert to polar coordinates $R = \\sqrt{r^2 + z^2}$ and $\\beta = \\tan^{-1}(z/r)$ and let the edge of the curve by given by $R_E(\\beta)$ so that\n",
    "\n",
    "$$I_z = 2 \\pi \\int_{\\beta} \\int_{0}^{R_E(\\beta)} \\rho(R, \\beta) R^4 \\cos^3(\\beta) dR~d\\beta$$\n",
    "\n",
    "Let $R' = R/R_0$ and $\\rho(R, \\beta) = \\rho_0 h(R, \\beta)$ \n",
    "\n",
    "$$\\boxed{\\frac{I}{\\rho_0 R_0^5} = 2 \\pi \\int_{\\beta} \\int_{0}^{R_E'(\\beta)} h(R', \\beta) R'^4 \\cos^3(\\beta) dR'~d\\beta}$$"
   ]
  },
  {
   "cell_type": "markdown",
   "metadata": {},
   "source": [
    "Meanwhile the mass is given by\n",
    "\n",
    "$$M = \\iiint \\rho(x, y, z)  dV = 2 \\pi \\int_{\\beta} \\int_{0}^{R_E(\\beta)} \\rho(R, \\beta) R^2 \\cos(\\beta) dR~d\\beta $$\n",
    "\n",
    "so that\n",
    "\n",
    "$$ \\boxed{\\frac{M}{\\rho_0 R_0^3} = 2 \\pi \\int_{\\beta} \\int_{0}^{R_E'(\\beta)} h(R', \\beta) R'^2 \\cos(\\beta) dR'~d\\beta} $$\n",
    "\n",
    "Then we can express everything as \n",
    "\n",
    "$$ \\boxed{\\frac{I_z}{MR_0^2} = \\frac{2 \\pi \\int_{\\beta} \\int_{0}^{R_E'(\\beta)} h(R', \\beta) R'^4 \\cos^3(\\beta) dR'~d\\beta}{2 \\pi \\int_{\\beta} \\int_{0}^{R_E'(\\beta)} h(R', \\beta) R'^2 \\cos(\\beta) dR'~d\\beta}}$$"
   ]
  },
  {
   "cell_type": "markdown",
   "metadata": {},
   "source": [
    "Define the appropriate integrands"
   ]
  },
  {
   "cell_type": "code",
   "execution_count": 5,
   "metadata": {
    "ExecuteTime": {
     "end_time": "2024-02-12T13:19:21.841294Z",
     "start_time": "2024-02-12T13:19:21.831154Z"
    }
   },
   "outputs": [],
   "source": [
    "def integrand_Iz(R, beta):\n",
    "    return R**4 * np.cos(beta)**3\n",
    "def integrand_M(R, beta):\n",
    "    return R**2 * np.cos(beta)"
   ]
  },
  {
   "cell_type": "markdown",
   "metadata": {},
   "source": [
    "**Test Case**: A sphere $h'=1$, and $\\beta$ goes from $-\\pi/2$ to $\\pi/2$ and $R_E'(\\beta) = 1$"
   ]
  },
  {
   "cell_type": "code",
   "execution_count": 6,
   "metadata": {
    "ExecuteTime": {
     "end_time": "2024-02-12T13:19:23.850996Z",
     "start_time": "2024-02-12T13:19:23.839180Z"
    }
   },
   "outputs": [
    {
     "name": "stdout",
     "output_type": "stream",
     "text": [
      "0.4\n"
     ]
    }
   ],
   "source": [
    "num = dblquad(integrand_Iz, -np.pi/2, np.pi/2, lambda x:0, lambda x: 1)[0]\n",
    "dem = dblquad(integrand_M, -np.pi/2, np.pi/2, lambda x:0, lambda x: 1)[0]\n",
    "Iz_MR2 = num/dem\n",
    "print(Iz_MR2)"
   ]
  },
  {
   "cell_type": "markdown",
   "metadata": {},
   "source": [
    "**Our Curve**: Uniform mass so $h'=1$and $\\beta$ goes from $\\pi/4$ to $\\pi/2$"
   ]
  },
  {
   "cell_type": "code",
   "execution_count": 7,
   "metadata": {
    "ExecuteTime": {
     "end_time": "2024-02-12T13:19:26.367647Z",
     "start_time": "2024-02-12T13:19:26.363295Z"
    }
   },
   "outputs": [
    {
     "name": "stdout",
     "output_type": "stream",
     "text": [
      "0.22652131755212312\n"
     ]
    }
   ],
   "source": [
    "num = dblquad(integrand_Iz, np.pi/4, np.pi/2, lambda x:0, lambda x: f(x))[0]\n",
    "dem = dblquad(integrand_M, np.pi/4, np.pi/2, lambda x:0, lambda x: f(x))[0]\n",
    "Iz_MR2 = num/dem\n",
    "print(Iz_MR2)"
   ]
  },
  {
   "cell_type": "markdown",
   "metadata": {},
   "source": [
    "## MOI About X/Y Axis"
   ]
  },
  {
   "cell_type": "markdown",
   "metadata": {},
   "source": [
    "We can do either $x$ or $y$ and without loss of generality we'll get the same answer (cylindrical symmetry)\n",
    "\n",
    "$$I_x = \\iiint \\rho(x, y, z) \\left(z^2+y^2\\right) dV = \\int_Z \\int_r \\int_0^{2\\pi} \\rho(r, z) \\left(z^2+r^2\\sin^2\\phi\\right) r d\\phi dr dz $$\n",
    "\n",
    "In this $r-z$ plane we can convert to polar coordinates $R = \\sqrt{r^2 + z^2}$ and $\\beta = \\tan^{-1}(z/r)$ and let the edge of the curve by given by $R_E(\\beta)$ so that\n",
    "\n",
    "$$I_x = \\int_{\\beta} \\int_{0}^{R_E(\\beta)}\\int_{0}^{2\\pi} \\rho(R,\\beta) \\left(R^2 \\sin^2 \\beta + R^2 \\cos^2 \\beta \\sin^2\\phi\\right) (R\\cos \\beta) R d\\phi dR d\\beta $$\n",
    "\n",
    "Let $R' = R/R_0$ and $\\rho(R, \\beta) = \\rho_0 h(R, \\beta)$ \n",
    "\n",
    "$$\\boxed{\\frac{I_x}{\\rho_0 R_0^5} = \\int_{\\beta} \\int_{0}^{R_E'(\\beta)}\\int_{0}^{2\\pi} h(R', \\beta) \\left(R'^2 \\sin^2 \\beta + R'^2 \\cos^2 \\beta \\sin^2\\phi\\right) R'^2 \\cos(\\beta)  d\\phi dR d\\beta}$$\n",
    "\n",
    "We already know the mass; this means that (with cylindrical symmetry)\n",
    "\n",
    "$$ \\boxed{\\frac{I_x}{MR_0^2} = \\frac{I_y}{MR_0^2} = \\frac{\\int_{\\beta} \\int_{0}^{R_E'(\\beta)}\\int_{0}^{2\\pi} h(R', \\beta) \\left(\\sin^2 \\beta + \\cos^2 \\beta \\sin^2\\phi\\right) R'^4 \\cos(\\beta)  d\\phi dR d\\beta}{2 \\pi \\int_{\\beta} \\int_{0}^{R_E'(\\beta)} h(R, \\beta) R'^2 \\cos(\\beta) dR'~d\\beta}}$$\n"
   ]
  },
  {
   "cell_type": "code",
   "execution_count": 8,
   "metadata": {
    "ExecuteTime": {
     "end_time": "2024-02-12T13:19:29.630956Z",
     "start_time": "2024-02-12T13:19:29.615624Z"
    }
   },
   "outputs": [],
   "source": [
    "def integrand_Ix(phi, R, beta):\n",
    "    return (np.sin(beta)**2 + (np.cos(beta)*np.sin(phi))**2) * R**4 * np.cos(beta)"
   ]
  },
  {
   "cell_type": "markdown",
   "metadata": {},
   "source": [
    "**Test Case**: A sphere $h'=1$, and $\\beta$ goes from $-\\pi/2$ to $\\pi/2$ and $R_E'(\\beta) = 1$"
   ]
  },
  {
   "cell_type": "code",
   "execution_count": 9,
   "metadata": {
    "ExecuteTime": {
     "end_time": "2024-02-12T13:19:31.404693Z",
     "start_time": "2024-02-12T13:19:31.382328Z"
    }
   },
   "outputs": [
    {
     "name": "stdout",
     "output_type": "stream",
     "text": [
      "0.4\n"
     ]
    }
   ],
   "source": [
    "num = tplquad(integrand_Ix, -np.pi/2, np.pi/2,\n",
    "              lambda x:0, lambda x: 1,\n",
    "              lambda x, y: 0, lambda x, y: 2*np.pi)[0]\n",
    "\n",
    "dem = 2*np.pi*dblquad(integrand_M, -np.pi/2, np.pi/2,\n",
    "              lambda x:0, lambda x: 1)[0]\n",
    "\n",
    "Ix_MR2 = num/dem\n",
    "print(Ix_MR2)"
   ]
  },
  {
   "cell_type": "markdown",
   "metadata": {},
   "source": [
    "**Our Curve**: Uniform mass so $h'=1$and $\\beta$ goes from $\\pi/4$ to $\\pi/2$"
   ]
  },
  {
   "cell_type": "code",
   "execution_count": 10,
   "metadata": {
    "ExecuteTime": {
     "end_time": "2024-02-12T13:19:33.240382Z",
     "start_time": "2024-02-12T13:19:33.226299Z"
    }
   },
   "outputs": [
    {
     "name": "stdout",
     "output_type": "stream",
     "text": [
      "0.7786873256282014\n"
     ]
    }
   ],
   "source": [
    "num = tplquad(integrand_Ix, np.pi/4, np.pi/2,\n",
    "              lambda x:0, lambda x: f(x),\n",
    "              lambda x, y: 0, lambda x, y: 2*np.pi)[0]\n",
    "\n",
    "dem = 2*np.pi*dblquad(integrand_M, np.pi/4, np.pi/2,\n",
    "              lambda x:0, lambda x: f(x))[0]\n",
    "\n",
    "Ix_MR2 = num/dem\n",
    "print(Ix_MR2)"
   ]
  },
  {
   "cell_type": "markdown",
   "metadata": {},
   "source": [
    "## Products of Inertia (Off-Diagonal Terms)"
   ]
  },
  {
   "cell_type": "markdown",
   "metadata": {},
   "source": [
    "$$I_{xy} = -\\iiint \\rho(x, y, z) xy dxdydz = - \\iint \\left(\\int_{-f(z)}^{f(z)} \\rho(x,y,z) x dx \\right) ydydz  $$\n",
    "\n",
    "But $\\rho$ is even in $x$ (cylindrical symmetry) so $\\rho(x,y,z) x$ is an odd function integrated over a symmetric bound. This integral is thus zero and thus $I_{xy}=0$. This can be applied to all cross terms $I_{xy}=I_{yx}=I_{yz}=I_{zy}=I_{xz}=I_{zx}=0$"
   ]
  },
  {
   "cell_type": "markdown",
   "metadata": {},
   "source": [
    "## Conclusion (Analytical)"
   ]
  },
  {
   "cell_type": "markdown",
   "metadata": {},
   "source": [
    "Our matrix $I/MR_0^2$ is given by"
   ]
  },
  {
   "cell_type": "code",
   "execution_count": 11,
   "metadata": {
    "ExecuteTime": {
     "end_time": "2024-02-12T13:19:38.542849Z",
     "start_time": "2024-02-12T13:19:38.498994Z"
    }
   },
   "outputs": [
    {
     "data": {
      "text/plain": "array([[0.77868733, 0.        , 0.        ],\n       [0.        , 0.77868733, 0.        ],\n       [0.        , 0.        , 0.22652132]])"
     },
     "execution_count": 11,
     "metadata": {},
     "output_type": "execute_result"
    }
   ],
   "source": [
    "I_MR02 = np.diag([Ix_MR2, Ix_MR2, Iz_MR2])\n",
    "I_MR02"
   ]
  },
  {
   "cell_type": "markdown",
   "metadata": {},
   "source": [
    "It can be shown that in terms of Euler's angles (https://galileoandeinstein.phys.virginia.edu/7010/CM_26_Euler_Angles.html) that $\\omega$ is given by\n",
    "\n",
    "$$\\vec{\\omega} = \\begin{bmatrix}\\dot{\\phi}\\sin(\\theta)\\sin(\\psi) + \\dot{\\theta}\\cos(\\psi)\\\\\\dot{\\phi}\\sin(\\theta)\\cos(\\psi) - \\dot{\\theta}\\sin(\\psi)\\\\ \\dot{\\phi}\\cos(\\theta) + \\dot{\\psi} \\end{bmatrix}$$\n",
    "\n",
    "\n",
    "which means we have all the information necessary to compute $T$, and since $V=-Mg\\cos(\\theta)$, we can compute and solve Lagrange's equations"
   ]
  },
  {
   "cell_type": "markdown",
   "metadata": {},
   "source": [
    "<p align=\"center\">\n",
    "  <img src=\"eulerangles.JPG\" alt=\"drawing\" width=\"600\" align=\"center\"/>\n",
    "</p>"
   ]
  },
  {
   "cell_type": "markdown",
   "metadata": {},
   "source": [
    "# Any Voxel Based Image"
   ]
  },
  {
   "cell_type": "code",
   "execution_count": 18,
   "metadata": {
    "ExecuteTime": {
     "end_time": "2024-02-12T13:23:40.110380Z",
     "start_time": "2024-02-12T13:23:40.059864Z"
    }
   },
   "outputs": [],
   "source": [
    "coords = np.loadtxt('spinning_top2.txt', unpack=True, delimiter=',', dtype=int)\n",
    "coords[[1, 2]] = coords[[2, 1]]\n",
    "coords = coords/max(coords.ravel())\n",
    "x, y, z  = coords"
   ]
  },
  {
   "cell_type": "markdown",
   "metadata": {},
   "source": [
    "Adjust so spinning top is centered"
   ]
  },
  {
   "cell_type": "code",
   "execution_count": 19,
   "metadata": {
    "ExecuteTime": {
     "end_time": "2024-02-12T13:23:41.357072Z",
     "start_time": "2024-02-12T13:23:41.342378Z"
    }
   },
   "outputs": [],
   "source": [
    "x_mean, y_mean = np.mean(x), np.mean(y)\n",
    "z_max = max(z)\n",
    "P0 = x0, y0, z0 = x_mean, y_mean, z_max\n",
    "coords = coords.T - P0\n",
    "coords = coords.T\n",
    "x, y, z = coords"
   ]
  },
  {
   "cell_type": "markdown",
   "metadata": {},
   "source": [
    "Quick 3D Plot of all voxels"
   ]
  },
  {
   "cell_type": "code",
   "execution_count": 20,
   "metadata": {
    "ExecuteTime": {
     "end_time": "2024-02-12T13:23:46.001625Z",
     "start_time": "2024-02-12T13:23:42.656852Z"
    }
   },
   "outputs": [
    {
     "data": {
      "text/plain": "<Figure size 640x480 with 1 Axes>",
      "image/png": "[encoded data removed]"
     },
     "metadata": {},
     "output_type": "display_data"
    }
   ],
   "source": [
    "fig = plt.figure()\n",
    "ax = fig.add_subplot(projection='3d')\n",
    "ax.scatter(x,y,z)\n",
    "ax.view_init(elev=20)"
   ]
  },
  {
   "cell_type": "markdown",
   "metadata": {},
   "source": [
    "Lets find the moment of inertia about its center of mass"
   ]
  },
  {
   "cell_type": "markdown",
   "metadata": {},
   "source": [
    "* $I_{x} = \\sum_k m_k (y_k^2 + z_k^2)$\n",
    "* $I_{y} = \\sum_k m_k (x_k^2 + z_k^2)$\n",
    "* $I_{z} = \\sum_k m_k (x_k^2 + y_k^2)$\n",
    "* $I_{xy} = I_{yx} = -\\sum_k m_k x_k y_k$\n",
    "* $I_{xz} = I_{zx} = -\\sum_k m_k x_k z_k$\n",
    "* $I_{yz} = I_{zy} = -\\sum_k m_k y_k z_k$\n",
    "\n",
    "But we're really interested in $\\frac{I}{MR_0^2}$ so we also need to divide by $M=\\sum_k m_k$ furthermore, since what's shown on the 3d plot is things like $x_k' = x_k/R_0$ our formula really looks like\n",
    "\n",
    "$$\\frac{I_x}{MR_0^2} = \\frac{\\sum_k m_k (y_k'^2 + z_k'^2)}{\\sum_k m_k}$$\n",
    "\n",
    "If we assume our objects have the same density everywhere, then all the $m_k's$ jsut equal $m$ and cancel to get\n",
    "\n",
    "$$\\boxed{\\frac{I_x}{MR_0^2} = \\frac{\\sum_k(y_k'^2 + z_k'^2)}{N}}$$\n",
    "\n",
    "where $N$ is the number of points in the object. The same goes for all the other formulas"
   ]
  },
  {
   "cell_type": "markdown",
   "metadata": {},
   "source": [
    "Compute all components of matrix"
   ]
  },
  {
   "cell_type": "code",
   "execution_count": 21,
   "metadata": {
    "ExecuteTime": {
     "end_time": "2024-02-12T13:23:55.714863Z",
     "start_time": "2024-02-12T13:23:55.643841Z"
    }
   },
   "outputs": [],
   "source": [
    "N = coords.shape[1]\n",
    "Ix = sum(coords[1]**2 + coords[2]**2)/N\n",
    "Iy = sum(coords[0]**2 + coords[2]**2)/N\n",
    "Iz = sum(coords[0]**2 + coords[1]**2)/N\n",
    "Ixy = sum(coords[0]*coords[1])/N\n",
    "Iyz = sum(coords[1]*coords[2])/N\n",
    "Ixz = sum(coords[0]*coords[2])/N"
   ]
  },
  {
   "cell_type": "markdown",
   "metadata": {},
   "source": [
    "Get matrix"
   ]
  },
  {
   "cell_type": "code",
   "execution_count": 22,
   "metadata": {
    "ExecuteTime": {
     "end_time": "2024-02-12T13:23:58.005931Z",
     "start_time": "2024-02-12T13:23:57.983238Z"
    }
   },
   "outputs": [
    {
     "data": {
      "text/plain": "array([[ 3.02051158e-01,  7.86146394e-07, -2.44978075e-06],\n       [ 7.86146394e-07,  3.02053663e-01, -5.61342133e-06],\n       [-2.44978075e-06, -5.61342133e-06,  7.27951440e-02]])"
     },
     "execution_count": 22,
     "metadata": {},
     "output_type": "execute_result"
    }
   ],
   "source": [
    "I = np.array([[Ix, Ixy, Ixz],[Ixy, Iy, Iyz],[Ixz, Iyz, Iz]])\n",
    "I"
   ]
  },
  {
   "cell_type": "markdown",
   "metadata": {},
   "source": [
    "And we have our matrix \n",
    "\n",
    "$$I = \\begin{bmatrix}I_x & I_{xy} & I_{xz}\\\\ I_{yx} & I_{y} & I_{yz}\\\\ I_{zx} & I_{zy} & I_{z}\\end{bmatrix}$$"
   ]
  },
  {
   "cell_type": "code",
   "execution_count": 23,
   "metadata": {
    "ExecuteTime": {
     "end_time": "2024-02-12T13:24:03.368804Z",
     "start_time": "2024-02-12T13:24:03.359118Z"
    }
   },
   "outputs": [
    {
     "data": {
      "text/plain": "<pandas.io.formats.style.Styler at 0x17ff1d970>",
      "text/html": "<style type=\"text/css\">\n#T_90a3c_row0_col0, #T_90a3c_row1_col1 {\n  background-color: #b40426;\n  color: #f1f1f1;\n}\n#T_90a3c_row0_col1, #T_90a3c_row0_col2, #T_90a3c_row1_col0, #T_90a3c_row1_col2, #T_90a3c_row2_col0, #T_90a3c_row2_col1 {\n  background-color: #3b4cc0;\n  color: #f1f1f1;\n}\n#T_90a3c_row2_col2 {\n  background-color: #89acfd;\n  color: #000000;\n}\n</style>\n<table id=\"T_90a3c\">\n  <thead>\n    <tr>\n      <th class=\"blank level0\" >&nbsp;</th>\n      <th id=\"T_90a3c_level0_col0\" class=\"col_heading level0 col0\" >0</th>\n      <th id=\"T_90a3c_level0_col1\" class=\"col_heading level0 col1\" >1</th>\n      <th id=\"T_90a3c_level0_col2\" class=\"col_heading level0 col2\" >2</th>\n    </tr>\n  </thead>\n  <tbody>\n    <tr>\n      <th id=\"T_90a3c_level0_row0\" class=\"row_heading level0 row0\" >0</th>\n      <td id=\"T_90a3c_row0_col0\" class=\"data row0 col0\" >0.302051</td>\n      <td id=\"T_90a3c_row0_col1\" class=\"data row0 col1\" >0.000001</td>\n      <td id=\"T_90a3c_row0_col2\" class=\"data row0 col2\" >-0.000002</td>\n    </tr>\n    <tr>\n      <th id=\"T_90a3c_level0_row1\" class=\"row_heading level0 row1\" >1</th>\n      <td id=\"T_90a3c_row1_col0\" class=\"data row1 col0\" >0.000001</td>\n      <td id=\"T_90a3c_row1_col1\" class=\"data row1 col1\" >0.302054</td>\n      <td id=\"T_90a3c_row1_col2\" class=\"data row1 col2\" >-0.000006</td>\n    </tr>\n    <tr>\n      <th id=\"T_90a3c_level0_row2\" class=\"row_heading level0 row2\" >2</th>\n      <td id=\"T_90a3c_row2_col0\" class=\"data row2 col0\" >-0.000002</td>\n      <td id=\"T_90a3c_row2_col1\" class=\"data row2 col1\" >-0.000006</td>\n      <td id=\"T_90a3c_row2_col2\" class=\"data row2 col2\" >0.072795</td>\n    </tr>\n  </tbody>\n</table>\n"
     },
     "execution_count": 23,
     "metadata": {},
     "output_type": "execute_result"
    }
   ],
   "source": [
    "pd.DataFrame(I).style.background_gradient(cmap='coolwarm', axis=None)"
   ]
  },
  {
   "cell_type": "code",
   "outputs": [],
   "source": [],
   "metadata": {
    "collapsed": false,
    "ExecuteTime": {
     "end_time": "2024-02-12T13:22:17.639971Z",
     "start_time": "2024-02-12T13:22:17.624079Z"
    }
   },
   "execution_count": 17
  },
  {
   "cell_type": "code",
   "outputs": [],
   "source": [],
   "metadata": {
    "collapsed": false
   }
  }
 ],
 "metadata": {
  "kernelspec": {
   "display_name": "Python 3",
   "language": "python",
   "name": "python3"
  },
  "language_info": {
   "codemirror_mode": {
    "name": "ipython",
    "version": 3
   },
   "file_extension": ".py",
   "mimetype": "text/x-python",
   "name": "python",
   "nbconvert_exporter": "python",
   "pygments_lexer": "ipython3",
   "version": "3.8.5"
  }
 },
 "nbformat": 4,
 "nbformat_minor": 4
}
