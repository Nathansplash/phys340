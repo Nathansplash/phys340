{
 "cells": [
  {
   "cell_type": "code",
   "execution_count": 1,
   "id": "initial_id",
   "metadata": {
    "collapsed": true,
    "ExecuteTime": {
     "end_time": "2024-03-08T18:27:51.964078Z",
     "start_time": "2024-03-08T18:27:48.417783Z"
    }
   },
   "outputs": [],
   "source": [
    "import numpy as np\n",
    "import matplotlib.pyplot as plt"
   ]
  },
  {
   "cell_type": "markdown",
   "source": [
    "# Systems of Linear Equations\n",
    "\n",
    "Consider the following matrix\n",
    "\n",
    "$$A = \\begin{bmatrix} -2 & -4 & 2 \\\\ -2 & 1 & 2 \\\\ 4 & 2 & 5 \\end{bmatrix}$$\n",
    "\n",
    "Consider also a constant vector $c$ of size $3 \\times 1$\n",
    "\n",
    "$$c = \\begin{bmatrix} 5 \\\\ -3 \\\\ 4 \\end{bmatrix}$$\n",
    "\n",
    "The solution of the system of linear equations $Ax = c$ can be calculated using the `solve` function of the `numpy.linalg` module.\n",
    "\n",
    "The inverse of a matrix $A$ can be calculated using the `inv` function of the `numpy.linalg` module.\n",
    "\n",
    "The determinant of a matrix $A$ can be calculated using the `det` function of the `numpy.linalg` module."
   ],
   "metadata": {
    "collapsed": false
   },
   "id": "11e02ae727c7e519"
  },
  {
   "cell_type": "code",
   "execution_count": 2,
   "outputs": [
    {
     "name": "stdout",
     "output_type": "stream",
     "text": [
      "The solution vector is  [ 1.18888889 -1.6         0.48888889]\n"
     ]
    }
   ],
   "source": [
    "# create a coefficient matrix\n",
    "A = np.array([[-2, -4, 2], [-2, 1, 2], [4, 2, 5]])\n",
    "#A = np.array([[1, 0, 0], [0, 2, 0], [0, 0, 3]])\n",
    "\n",
    "# create a constant vector\n",
    "c = np.array([5, -3, 4])\n",
    "\n",
    "# solve the system of linear equations\n",
    "x = np.linalg.solve(A, c)\n",
    "\n",
    "# print the solution\n",
    "print('The solution vector is ',x)"
   ],
   "metadata": {
    "collapsed": false,
    "ExecuteTime": {
     "end_time": "2024-03-08T18:27:52.030449Z",
     "start_time": "2024-03-08T18:27:51.982977Z"
    }
   },
   "id": "46db9ff55287e6c2"
  },
  {
   "cell_type": "code",
   "execution_count": 3,
   "outputs": [
    {
     "name": "stdout",
     "output_type": "stream",
     "text": [
      "The solution vector is  [ 1.18888889 -1.6         0.48888889]\n"
     ]
    }
   ],
   "source": [
    "# calculate the inverse of the coefficient matrix\n",
    "A_inv = np.linalg.inv(A)\n",
    "\n",
    "# calculate the solution vector by multiplying the inverse with the constant vector\n",
    "x = np.dot(A_inv, c)\n",
    "\n",
    "# print the solution\n",
    "print('The solution vector is ',x)"
   ],
   "metadata": {
    "collapsed": false,
    "ExecuteTime": {
     "end_time": "2024-03-08T18:27:52.047594Z",
     "start_time": "2024-03-08T18:27:52.034273Z"
    }
   },
   "id": "793df96d71192dcd"
  },
  {
   "cell_type": "code",
   "execution_count": 4,
   "outputs": [
    {
     "name": "stdout",
     "output_type": "stream",
     "text": [
      "The inverse of the coefficient matrix is \n",
      "[[-0.01111111 -0.26666667  0.11111111]\n",
      " [-0.2         0.2        -0.        ]\n",
      " [ 0.08888889  0.13333333  0.11111111]]\n",
      "\n",
      "The determinant is  -90.0\n",
      "\n",
      "The rank is  3\n",
      "\n",
      "The norm is  8.831760866327848\n",
      "\n",
      "The condition number is  2.5464725730238915\n"
     ]
    }
   ],
   "source": [
    "# print the inverse of the coefficient matrix\n",
    "print('The inverse of the coefficient matrix is ')\n",
    "print(A_inv)\n",
    "print()\n",
    "\n",
    "# print the determinant of the coefficient matrix\n",
    "print('The determinant is ',np.linalg.det(A))\n",
    "print()\n",
    "\n",
    "# print the rank of the coefficient matrix\n",
    "print('The rank is ',np.linalg.matrix_rank(A))\n",
    "print()\n",
    "\n",
    "# print the norm of the coefficient matrix\n",
    "print('The norm is ',np.linalg.norm(A))\n",
    "print()\n",
    "\n",
    "# print the condition number of the coefficient matrix\n",
    "print('The condition number is ',np.linalg.cond(A))\n",
    "print()"
   ],
   "metadata": {
    "collapsed": false,
    "ExecuteTime": {
     "end_time": "2024-03-08T18:27:52.065864Z",
     "start_time": "2024-03-08T18:27:52.050167Z"
    }
   },
   "id": "7e6af147ef82af05"
  },
  {
   "cell_type": "code",
   "execution_count": 5,
   "outputs": [
    {
     "name": "stdout",
     "output_type": "stream",
     "text": [
      "The coefficient matrix is \n",
      "Matrix([[-2, -4, 2], [-2, 1, 2], [4, 2, 5]])\n",
      "The inverse of the coefficient matrix is \n",
      "Matrix([[-1/90, -4/15, 1/9], [-1/5, 1/5, 0], [4/45, 2/15, 1/9]])\n",
      "The solution vector is \n",
      "Matrix([[107/90], [-8/5], [22/45]])\n"
     ]
    }
   ],
   "source": [
    "# create a coefficient matrix using Sympy\n",
    "import sympy as sym\n",
    "As = sym.Matrix([[-2, -4, 2], [-2, 1, 2], [4, 2, 5]])\n",
    "#As = sym.Matrix([[1, 0, 0], [0, 2, 0], [0, 0, 3]])\n",
    "\n",
    "print('The coefficient matrix is ')\n",
    "print(As)\n",
    "\n",
    "# calculate the inverse of the coefficient matrix\n",
    "As_inv = As.inv()\n",
    "print('The inverse of the coefficient matrix is ')\n",
    "print(As_inv)\n",
    "\n",
    "# calculate the solution vector by multiplying the inverse with the constant vector\n",
    "xs = As_inv * sym.Matrix([5, -3, 4])\n",
    "\n",
    "# print the solution\n",
    "print('The solution vector is ')\n",
    "print(xs)\n"
   ],
   "metadata": {
    "collapsed": false,
    "ExecuteTime": {
     "end_time": "2024-03-08T18:27:59.365534Z",
     "start_time": "2024-03-08T18:27:52.074439Z"
    }
   },
   "id": "f5912bc6ff857e17"
  },
  {
   "cell_type": "markdown",
   "source": [],
   "metadata": {
    "collapsed": false
   },
   "id": "e0bb8b269721a922"
  },
  {
   "cell_type": "code",
   "outputs": [],
   "source": [],
   "metadata": {
    "collapsed": false,
    "ExecuteTime": {
     "end_time": "2024-03-08T18:27:59.384715Z",
     "start_time": "2024-03-08T18:27:59.374344Z"
    }
   },
   "id": "78303f7c1cce6f04",
   "execution_count": 5
  },
  {
   "cell_type": "markdown",
   "source": [],
   "metadata": {
    "collapsed": false
   },
   "id": "de8e9a9d16c289ec"
  },
  {
   "cell_type": "code",
   "execution_count": 5,
   "outputs": [],
   "source": [],
   "metadata": {
    "collapsed": false,
    "ExecuteTime": {
     "end_time": "2024-03-08T18:27:59.399940Z",
     "start_time": "2024-03-08T18:27:59.391514Z"
    }
   },
   "id": "1b5b4c541edaad25"
  },
  {
   "cell_type": "code",
   "execution_count": 5,
   "outputs": [],
   "source": [],
   "metadata": {
    "collapsed": false,
    "ExecuteTime": {
     "end_time": "2024-03-08T18:27:59.415099Z",
     "start_time": "2024-03-08T18:27:59.406181Z"
    }
   },
   "id": "6dc37743f36c1e36"
  },
  {
   "cell_type": "code",
   "execution_count": 5,
   "outputs": [],
   "source": [],
   "metadata": {
    "collapsed": false,
    "ExecuteTime": {
     "end_time": "2024-03-08T18:27:59.439448Z",
     "start_time": "2024-03-08T18:27:59.426114Z"
    }
   },
   "id": "9f39021a16d70237"
  },
  {
   "cell_type": "code",
   "execution_count": 5,
   "outputs": [],
   "source": [],
   "metadata": {
    "collapsed": false,
    "ExecuteTime": {
     "end_time": "2024-03-08T18:27:59.462770Z",
     "start_time": "2024-03-08T18:27:59.451639Z"
    }
   },
   "id": "65a9389dcdfc645e"
  },
  {
   "cell_type": "code",
   "execution_count": 5,
   "outputs": [],
   "source": [],
   "metadata": {
    "collapsed": false,
    "ExecuteTime": {
     "end_time": "2024-03-08T18:27:59.480477Z",
     "start_time": "2024-03-08T18:27:59.466929Z"
    }
   },
   "id": "55ccce14d4e8b8ea"
  },
  {
   "cell_type": "code",
   "execution_count": 5,
   "outputs": [],
   "source": [],
   "metadata": {
    "collapsed": false,
    "ExecuteTime": {
     "end_time": "2024-03-08T18:27:59.501746Z",
     "start_time": "2024-03-08T18:27:59.485264Z"
    }
   },
   "id": "aa9d88c80862d84e"
  },
  {
   "cell_type": "code",
   "execution_count": 5,
   "outputs": [],
   "source": [],
   "metadata": {
    "collapsed": false,
    "ExecuteTime": {
     "end_time": "2024-03-08T18:27:59.529119Z",
     "start_time": "2024-03-08T18:27:59.510016Z"
    }
   },
   "id": "aedd0beac735c102"
  },
  {
   "cell_type": "code",
   "execution_count": 5,
   "outputs": [],
   "source": [],
   "metadata": {
    "collapsed": false,
    "ExecuteTime": {
     "end_time": "2024-03-08T18:27:59.589191Z",
     "start_time": "2024-03-08T18:27:59.569904Z"
    }
   },
   "id": "8056a161ca2131c3"
  },
  {
   "cell_type": "code",
   "execution_count": 5,
   "outputs": [],
   "source": [],
   "metadata": {
    "collapsed": false,
    "ExecuteTime": {
     "end_time": "2024-03-08T18:27:59.606494Z",
     "start_time": "2024-03-08T18:27:59.597881Z"
    }
   },
   "id": "b1666539faeb5ba6"
  },
  {
   "cell_type": "code",
   "execution_count": 5,
   "outputs": [],
   "source": [],
   "metadata": {
    "collapsed": false,
    "ExecuteTime": {
     "end_time": "2024-03-08T18:27:59.712630Z",
     "start_time": "2024-03-08T18:27:59.647115Z"
    }
   },
   "id": "1f922ff181230e8f"
  },
  {
   "cell_type": "markdown",
   "source": [
    "\n"
   ],
   "metadata": {
    "collapsed": false
   },
   "id": "a93291c64ae13a3b"
  },
  {
   "cell_type": "code",
   "execution_count": 5,
   "outputs": [],
   "source": [],
   "metadata": {
    "collapsed": false,
    "ExecuteTime": {
     "end_time": "2024-03-08T18:27:59.818043Z",
     "start_time": "2024-03-08T18:27:59.778811Z"
    }
   },
   "id": "8e3c9cd9affdcb7c"
  },
  {
   "cell_type": "code",
   "execution_count": 5,
   "outputs": [],
   "source": [],
   "metadata": {
    "collapsed": false,
    "ExecuteTime": {
     "end_time": "2024-03-08T18:27:59.859181Z",
     "start_time": "2024-03-08T18:27:59.838256Z"
    }
   },
   "id": "6121b99c15b1ba47"
  },
  {
   "cell_type": "code",
   "execution_count": 5,
   "outputs": [],
   "source": [],
   "metadata": {
    "collapsed": false,
    "ExecuteTime": {
     "end_time": "2024-03-08T18:27:59.888668Z",
     "start_time": "2024-03-08T18:27:59.867929Z"
    }
   },
   "id": "441f7bbbbd17bfca"
  },
  {
   "cell_type": "code",
   "execution_count": 5,
   "outputs": [],
   "source": [
    "\n"
   ],
   "metadata": {
    "collapsed": false,
    "ExecuteTime": {
     "end_time": "2024-03-08T18:27:59.913088Z",
     "start_time": "2024-03-08T18:27:59.893235Z"
    }
   },
   "id": "10a0ec858a6c8d76"
  },
  {
   "cell_type": "code",
   "execution_count": 5,
   "outputs": [],
   "source": [],
   "metadata": {
    "collapsed": false,
    "ExecuteTime": {
     "end_time": "2024-03-08T18:27:59.930657Z",
     "start_time": "2024-03-08T18:27:59.923658Z"
    }
   },
   "id": "e57e9cece51c3f7c"
  },
  {
   "cell_type": "code",
   "execution_count": 5,
   "outputs": [],
   "source": [],
   "metadata": {
    "collapsed": false,
    "ExecuteTime": {
     "end_time": "2024-03-08T18:27:59.941543Z",
     "start_time": "2024-03-08T18:27:59.934804Z"
    }
   },
   "id": "734013b56201c0f5"
  },
  {
   "cell_type": "code",
   "outputs": [],
   "source": [],
   "metadata": {
    "collapsed": false
   },
   "id": "a96fd56b1a41341b"
  }
 ],
 "metadata": {
  "kernelspec": {
   "display_name": "Python 3",
   "language": "python",
   "name": "python3"
  },
  "language_info": {
   "codemirror_mode": {
    "name": "ipython",
    "version": 2
   },
   "file_extension": ".py",
   "mimetype": "text/x-python",
   "name": "python",
   "nbconvert_exporter": "python",
   "pygments_lexer": "ipython2",
   "version": "2.7.6"
  }
 },
 "nbformat": 4,
 "nbformat_minor": 5
}
