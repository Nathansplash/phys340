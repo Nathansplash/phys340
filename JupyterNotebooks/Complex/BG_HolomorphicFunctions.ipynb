{
 "cells": [
  {
   "cell_type": "markdown",
   "source": [
    "# Holomorphic functions\n",
    "\n",
    "A function $f(z)$ is said to be holomorphic at a point $z_0$ if it is differentiable at every point in some neighborhood of $z_0$. If $f(z)$ is differentiable at every point in some open set $U$, then $f(z)$ is said to be holomorphic on $U$.\n",
    "\n",
    "If $f(z)$ is holomorphic on $U$, then it is also continuous on $U$. In fact, it is infinitely differentiable on $U$.\n",
    "\n",
    "If $f(z)$ is holomorphic on $U$, then it satisfies the Cauchy-Riemann equations on $U$.\n",
    "\n",
    "If $f(z)$ is holomorphic on $U$, then it has a power series expansion at every point in $U$.\n",
    "\n",
    "If $f(z)$ is holomorphic on $U$, then it is analytic on $U$.\n",
    "\n",
    "## Holomorphic functions in classical physics\n",
    "\n",
    "Holomorphic functions are important in physics because they are solutions to the Laplace equation, which is a fundamental equation in classical physics (e.g. electromagnetism/EM waves) . The Laplace equation is given by\n",
    "\n",
    "$$\\nabla^2 f = 0$$\n",
    "\n",
    "where $\\nabla^2$ is the Laplacian operator. \n",
    "\n",
    "## Holomorphic functions in quantum physics\n",
    "\n",
    "In quantum mechanics, the wave function $\\psi(x)$ is a holomorphic function of the position $x$. This is because the Schrödinger equation is a wave equation, and wave equations have solutions that are holomorphic functions.\n",
    "\n",
    "## Holomorphic functions in statistical mechanics\n",
    "\n",
    "In statistical mechanics, the partition function $Z$ is a holomorphic function of the temperature $T$. This is because the partition function is related to the Helmholtz free energy, which is a holomorphic function of the temperature."
   ],
   "metadata": {
    "collapsed": false
   },
   "id": "31c71af5ff4dae9b"
  },
  {
   "cell_type": "code",
   "outputs": [],
   "source": [],
   "metadata": {
    "collapsed": false
   },
   "id": "f6b4300ad3d9413c"
  }
 ],
 "metadata": {
  "kernelspec": {
   "display_name": "Python 3",
   "language": "python",
   "name": "python3"
  },
  "language_info": {
   "codemirror_mode": {
    "name": "ipython",
    "version": 2
   },
   "file_extension": ".py",
   "mimetype": "text/x-python",
   "name": "python",
   "nbconvert_exporter": "python",
   "pygments_lexer": "ipython2",
   "version": "2.7.6"
  }
 },
 "nbformat": 4,
 "nbformat_minor": 5
}
