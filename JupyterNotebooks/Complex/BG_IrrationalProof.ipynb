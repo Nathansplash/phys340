{
 "cells": [
  {
   "cell_type": "markdown",
   "source": [
    "# Proof that the square root of 2 is irrational\n",
    "\n",
    "We will start by proving that the square root of 2 is irrational by contradiction. We will assume that the square root of 2 is rational and then show that this leads to a contradiction.\n",
    "\n",
    "## Proof by contradiction\n",
    "\n",
    "Assume that the square root of 2 is rational. Then, there exist two integers $p$ and $q$ such that $\\sqrt{2} = \\frac{p}{q}$, where $p$ and $q$ have no common factors. \n",
    "\n",
    "This last part of the definition is $crucial$.  If $p$ and $q$ shared a common factor, then we could cancel that common factor on the top and bottom of the fraction, to obtain a simpler form.\n",
    "\n",
    "We can also assume that $p$ and $q$ are positive, since if they are negative, we can multiply both by -1.\n",
    "\n",
    "## Squaring both sides\n",
    "\n",
    "Squaring both sides of the equation $\\sqrt{2} = \\frac{p}{q}$, we get $2 = \\frac{p^2}{q^2}$, which can be rewritten as $2q^2 = p^2$.\n",
    "\n",
    "## Evenness of $p^2$\n",
    "\n",
    "This last equation tells us that $p^2$ is even. This means that $p$ is also even, since the square of an odd number is odd.\n",
    "\n",
    "## Evenness of $p$\n",
    "\n",
    "If $p$ is even, then $p = 2k$ for some integer $k$. Substituting this into the equation $2q^2 = p^2$, we get $2q^2 = (2k)^2 = 4k^2$, which can be rewritten as $q^2 = 2k^2$.\n",
    "\n",
    "## Evenness of $q^2$\n",
    "\n",
    "This last equation tells us that $q^2$ is even. This means that $q$ is also even, since the square of an odd number is odd.\n",
    "\n",
    "## Common factors\n",
    "\n",
    "We have now shown that both $p$ and $q$ are even, which means that they share a common factor of 2. This contradicts our initial assumption that $p$ and $q$ have no common factors.\n",
    "\n",
    "## Conclusion\n",
    "\n",
    "We have reached a contradiction, which means that our initial assumption that the square root of 2 is rational must be false. Therefore, the square root of 2 is irrational. $\\blacksquare$"
   ],
   "metadata": {
    "collapsed": false
   },
   "id": "cfc870fcf067aeba"
  },
  {
   "cell_type": "markdown",
   "source": [
    "# Proof that the square root of 3 is irrational\n",
    "\n",
    "We will now prove that the square root of 3 is irrational. We will use a similar proof by contradiction as the one we used for the square root of 2.\n",
    "\n",
    "## Proof by contradiction\n",
    "\n",
    "Assume that the square root of 3 is rational. Then, there exist two integers $p$ and $q$ such that $\\sqrt{3} = \\frac{p}{q}$, where $p$ and $q$ have no common factors.\n",
    "\n",
    "## Squaring both sides\n",
    "\n",
    "Squaring both sides of the equation $\\sqrt{3} = \\frac{p}{q}$, we get $3 = \\frac{p^2}{q^2}$, which can be rewritten as $3q^2 = p^2$.\n",
    "\n",
    "## Factors of $p^2$\n",
    "\n",
    "This last equation tells us that $p^2$ is a multiple of 3. This means that $p$ is also a multiple of 3, since the square of a number that is not a multiple of 3 is not a multiple of 3.\n",
    "\n",
    "## Factors of $q^2$\n",
    "\n",
    "If $p$ is a multiple of 3, then $p = 3k$ for some integer $k$. Substituting this into the equation $3q^2 = p^2$, we get $3q^2 = (3k)^2 = 9k^2$, which can be rewritten as $q^2 = 3k^2$.  This means that $q^2$ is also a multiple of 3, and therefore $q$ is also a multiple of 3.\n",
    "\n",
    "## Common factors\n",
    "\n",
    "We have now shown that both $p$ and $q$ are multiples of 3, which means that they share a common factor of 3. This contradicts our initial assumption that $p$ and $q$ have no common factors.\n",
    "\n",
    "## Conclusion\n",
    "\n",
    "We have reached a contradiction, which means that our initial assumption that the square root of 3 is rational must be false. Therefore, the square root of 3 is irrational. $\\blacksquare$\n",
    "\n"
   ],
   "metadata": {
    "collapsed": false
   },
   "id": "37be3bcaef69c6ea"
  },
  {
   "cell_type": "markdown",
   "source": [
    "# Proof that the square root of any prime number is irrational\n",
    "\n",
    "We will now prove that the square root of any prime number is irrational. We will use a similar proof by contradiction as the one we used for the square root of 2.\n",
    "    \n",
    "## Proof by contradiction\n",
    "\n",
    "Assume that the square root of a prime number $p$ is rational. Then, there exist two integers $a$ and $b$ such that $\\sqrt{p} = \\frac{a}{b}$, where $a$ and $b$ have no common factors.\n",
    "\n",
    "## Squaring both sides\n",
    "\n",
    "Squaring both sides of the equation $\\sqrt{p} = \\frac{a}{b}$, we get $p = \\frac{a^2}{b^2}$, which can be rewritten as $pb^2 = a^2$.\n",
    "\n",
    "## Factors of $a^2$\n",
    "\n",
    "This last equation tells us that $a^2$ is a multiple of $p$. This means that $a$ is also a multiple of $p$, since the square of a number that is not a multiple of $p$ is not a multiple of $p$.\n",
    "\n",
    "## Factors of $b^2$\n",
    "\n",
    "If $a$ is a multiple of $p$, then $a = pk$ for some integer $k$. Substituting this into the equation $pb^2 = a^2$, we get $pb^2 = (pk)^2 = p^2k^2$, which can be rewritten as $b^2 = pk^2$.  This means that $b^2$ is also a multiple of $p$, and therefore $b$ is also a multiple of $p$.\n",
    "\n",
    "## Common factors\n",
    "\n",
    "We have now shown that both $a$ and $b$ are multiples of $p$, which means that they share a common factor of $p$. This contradicts our initial assumption that $a$ and $b$ have no common factors.\n",
    "\n",
    "## Conclusion\n",
    "\n",
    "We have reached a contradiction, which means that our initial assumption that the square root of a prime number is rational must be false. Therefore, the square root of any prime number is irrational. $\\blacksquare$"
   ],
   "metadata": {
    "collapsed": false
   },
   "id": "ea90924bdbcc53d7"
  },
  {
   "cell_type": "code",
   "outputs": [],
   "source": [],
   "metadata": {
    "collapsed": false
   },
   "id": "fbb3559fe8322853"
  }
 ],
 "metadata": {
  "kernelspec": {
   "display_name": "Python 3",
   "language": "python",
   "name": "python3"
  },
  "language_info": {
   "codemirror_mode": {
    "name": "ipython",
    "version": 2
   },
   "file_extension": ".py",
   "mimetype": "text/x-python",
   "name": "python",
   "nbconvert_exporter": "python",
   "pygments_lexer": "ipython2",
   "version": "2.7.6"
  }
 },
 "nbformat": 4,
 "nbformat_minor": 5
}
